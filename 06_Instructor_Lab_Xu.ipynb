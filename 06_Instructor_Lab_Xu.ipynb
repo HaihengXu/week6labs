{
 "cells": [
  {
   "cell_type": "markdown",
   "id": "9af0629f-9bc2-4a3b-ba48-14994494556e",
   "metadata": {},
   "source": [
    "# Week 6 Instructor-led lab: Magic Crystal Ball\n",
    "\n",
    "Author: Haiheng Xu  \n",
    "Course: BGEN632 Grad. Intro. to Python  \n",
    "Term: Spring 2025  \n",
    "Date: April 3, 2025  \n"
   ]
  },
  {
   "cell_type": "markdown",
   "id": "6e93aee2-5df3-41e2-8ec7-89686cef44c8",
   "metadata": {},
   "source": [
    "### Import Modules"
   ]
  },
  {
   "cell_type": "code",
   "execution_count": 21,
   "id": "badbd15d-7415-4d1c-ac77-9c14520903f3",
   "metadata": {},
   "outputs": [],
   "source": [
    "import random as rand"
   ]
  },
  {
   "cell_type": "markdown",
   "id": "170e4c00-8843-4e86-807e-107a86c8e671",
   "metadata": {},
   "source": [
    "### Create Variables"
   ]
  },
  {
   "cell_type": "code",
   "execution_count": 24,
   "id": "5685d65c-0695-42cb-8de1-ac1e18910769",
   "metadata": {},
   "outputs": [],
   "source": [
    "fortune_responses = [\"It is certain\",\n",
    "                     \"It is decidedly so\",\n",
    "                     \"That question requires greater monetary compensation\",\n",
    "                     \"Reply is hazy; try again, with more money\",\n",
    "                     \"Concentrate and ask again\",\n",
    "                     \"My reply is no\",\n",
    "                     \"Outlook is not so good\",\n",
    "                     \"Very doubtful\",\n",
    "                     \"It is your destiny\",\n",
    "                     \"Trust your instinct\",\n",
    "                     \"Do not go down that way\"]\n",
    "\n",
    "question_asked = False\n",
    "service_cost = 0.0\n",
    "\n",
    "\n",
    "# Create lists to put the questions and responses\n",
    "questions = []\n",
    "responses = []\n",
    "\n",
    "\n",
    "\n",
    "# Create a boolean to check if it is the first question\n",
    "\n",
    "asked_question = False\n",
    "\n",
    "# Create a boolean to check if user wants to end service\n",
    "end_service = False"
   ]
  },
  {
   "cell_type": "markdown",
   "id": "8173048b-b75f-4ea9-a532-0bf2dcdc204c",
   "metadata": {},
   "source": [
    "### Create Nested Loop"
   ]
  },
  {
   "cell_type": "code",
   "execution_count": 27,
   "id": "ee82fe7f-3193-4101-af65-0709f7a1d149",
   "metadata": {},
   "outputs": [
    {
     "name": "stdout",
     "output_type": "stream",
     "text": [
      "Welcome to the all-seeing computer!\n",
      "\n",
      "\n",
      "Menu:\n",
      "1. Ask a question\n",
      "2. Review questions and responses\n",
      "3. Complete services and pay\n"
     ]
    },
    {
     "name": "stdin",
     "output_type": "stream",
     "text": [
      "\n",
      "Enter your choice (1, 2, or 3):  1\n",
      "Ask me what you want to know:  Would it snow today?\n"
     ]
    },
    {
     "name": "stdout",
     "output_type": "stream",
     "text": [
      "That question requires greater monetary compensation\n",
      "\n",
      "Menu:\n",
      "1. Ask another question\n",
      "2. Review questions and responses\n",
      "3. Complete services and pay\n"
     ]
    },
    {
     "name": "stdin",
     "output_type": "stream",
     "text": [
      "\n",
      "Enter your choice (1, 2, or 3):  Should I go to the gym today?\n"
     ]
    },
    {
     "name": "stdout",
     "output_type": "stream",
     "text": [
      "Invalid input. Please enter a number.\n"
     ]
    },
    {
     "name": "stdin",
     "output_type": "stream",
     "text": [
      "\n",
      "Enter your choice (1, 2, or 3):  1\n",
      "Ask me what you want to know:  Should I go to the gym today?\n"
     ]
    },
    {
     "name": "stdout",
     "output_type": "stream",
     "text": [
      "That question requires greater monetary compensation\n",
      "\n",
      "Menu:\n",
      "1. Ask another question\n",
      "2. Review questions and responses\n",
      "3. Complete services and pay\n"
     ]
    },
    {
     "name": "stdin",
     "output_type": "stream",
     "text": [
      "\n",
      "Enter your choice (1, 2, or 3):  1\n",
      "Ask me what you want to know:  What should I eat for dinner?\n"
     ]
    },
    {
     "name": "stdout",
     "output_type": "stream",
     "text": [
      "Concentrate and ask again\n",
      "\n",
      "Menu:\n",
      "1. Ask another question\n",
      "2. Review questions and responses\n",
      "3. Complete services and pay\n"
     ]
    },
    {
     "name": "stdin",
     "output_type": "stream",
     "text": [
      "\n",
      "Enter your choice (1, 2, or 3):  1\n",
      "Ask me what you want to know:  Is tomorrow a good skiing day?\n"
     ]
    },
    {
     "name": "stdout",
     "output_type": "stream",
     "text": [
      "It is certain\n",
      "\n",
      "Menu:\n",
      "1. Ask another question\n",
      "2. Review questions and responses\n",
      "3. Complete services and pay\n"
     ]
    },
    {
     "name": "stdin",
     "output_type": "stream",
     "text": [
      "\n",
      "Enter your choice (1, 2, or 3):  2\n"
     ]
    },
    {
     "name": "stdout",
     "output_type": "stream",
     "text": [
      "\n",
      "YOU ASKED:\n",
      "Q: Would it snow today?\n",
      "A: That question requires greater monetary compensation\n",
      "\n",
      "Q: Should I go to the gym today?\n",
      "A: That question requires greater monetary compensation\n",
      "\n",
      "Q: What should I eat for dinner?\n",
      "A: Concentrate and ask again\n",
      "\n",
      "Q: Is tomorrow a good skiing day?\n",
      "A: It is certain\n",
      "\n",
      "\n",
      "Menu:\n",
      "1. Ask another question\n",
      "2. Review questions and responses\n",
      "3. Complete services and pay\n"
     ]
    },
    {
     "name": "stdin",
     "output_type": "stream",
     "text": [
      "\n",
      "Enter your choice (1, 2, or 3):  3\n"
     ]
    },
    {
     "name": "stdout",
     "output_type": "stream",
     "text": [
      "\n",
      "You owe $120.00 for today's services.\n",
      "\n",
      "Thank you for visiting the all-seeing computer.\n",
      "\n",
      "YOUR QUESTIONS AND RESPONSES:\n",
      "Q: Would it snow today?\n",
      "A: That question requires greater monetary compensation\n",
      "\n",
      "Q: Should I go to the gym today?\n",
      "A: That question requires greater monetary compensation\n",
      "\n",
      "Q: What should I eat for dinner?\n",
      "A: Concentrate and ask again\n",
      "\n",
      "Q: Is tomorrow a good skiing day?\n",
      "A: It is certain\n",
      "\n",
      "\n",
      "You owe $120.00 for today's services.\n"
     ]
    }
   ],
   "source": [
    "print(\"Welcome to the all-seeing computer!\\n\")\n",
    "\n",
    "# Show menu when user is not ending the service\n",
    "while not end_service:\n",
    "    print(\"\\nMenu:\")\n",
    "    if asked_question:\n",
    "        print(\"1. Ask another question\")\n",
    "    else:\n",
    "        print(\"1. Ask a question\")\n",
    "    print(\"2. Review questions and responses\")\n",
    "    print(\"3. Complete services and pay\")\n",
    "\n",
    "# Make sure the user input a valid selection\n",
    "    user_choice = ''\n",
    "    while user_choice == '':\n",
    "        user_choice_input = input(\"\\nEnter your choice (1, 2, or 3): \")\n",
    "        if user_choice_input.isdigit():\n",
    "            choice_int = int(user_choice_input)\n",
    "            if 1 <= choice_int <= 3:\n",
    "                user_choice = choice_int\n",
    "            else:\n",
    "                print(\"Invalid choice. Please enter 1, 2, or 3.\")\n",
    "        else:\n",
    "            print(\"Invalid input. Please enter a number.\")\n",
    "\n",
    "# If user chose to ask a question\n",
    "    if user_choice == 1:\n",
    "        question = input(\"Ask me what you want to know: \")\n",
    "        if not question:\n",
    "            print(\"You did not enter a question.\")\n",
    "            continue\n",
    "# Give a random response\n",
    "        response = rand.choice(fortune_responses)\n",
    "        print(response)\n",
    "# Add question and response to the lists\n",
    "        questions.append(question)\n",
    "        responses.append(response)\n",
    "        asked_question = True\n",
    "# If user chose to review the questions\n",
    "    elif user_choice == 2:\n",
    "        print(\"\\nYOU ASKED:\")\n",
    "        if not questions:\n",
    "            print(\"You have not asked any questions yet.\")\n",
    "        else:\n",
    "            for i in range(len(questions)):\n",
    "                print(f\"Q: {questions[i]}\\nA: {responses[i]}\\n\")\n",
    "\n",
    "# If user chose to exit\n",
    "    elif user_choice == 3:\n",
    "        service_cost = len(questions) * 30\n",
    "        print(f\"\\nYou owe ${service_cost:.2f} for today's services.\")\n",
    "        end_service = True\n",
    "    else:\n",
    "        print(\"Invalid choice.\")\n",
    "\n",
    "print(\"\\nThank you for visiting the all-seeing computer.\")\n",
    "\n",
    "print (\"\\nYOUR QUESTIONS AND RESPONSES:\")\n",
    "if questions:\n",
    "    for i in range(len(questions)):\n",
    "        print(f\"Q: {questions[i]}\\nA: {responses[i]}\\n\")\n",
    "else:\n",
    "    print(\"No questions were asked.\")\n",
    "\n",
    "print(f\"\\nYou owe ${service_cost:.2f} for today's services.\")"
   ]
  },
  {
   "cell_type": "markdown",
   "id": "13eb5560-d392-4576-a046-6ddee6454038",
   "metadata": {},
   "source": [
    "### References"
   ]
  },
  {
   "cell_type": "markdown",
   "id": "d20431f5-60b2-42cc-8422-2fad6efbcf69",
   "metadata": {},
   "source": [
    "ChatGPT screenshot in the repo"
   ]
  }
 ],
 "metadata": {
  "kernelspec": {
   "display_name": "Python [conda env:base] *",
   "language": "python",
   "name": "conda-base-py"
  },
  "language_info": {
   "codemirror_mode": {
    "name": "ipython",
    "version": 3
   },
   "file_extension": ".py",
   "mimetype": "text/x-python",
   "name": "python",
   "nbconvert_exporter": "python",
   "pygments_lexer": "ipython3",
   "version": "3.12.7"
  }
 },
 "nbformat": 4,
 "nbformat_minor": 5
}
