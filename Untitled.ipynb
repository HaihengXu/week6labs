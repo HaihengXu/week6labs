{
 "cells": [
  {
   "cell_type": "markdown",
   "id": "fd1d5700-f1cd-4e2b-83b6-ed0b74b4f5a0",
   "metadata": {},
   "source": [
    "# Week 6 Independent lab: Grade Entry System\n",
    "\n",
    "Author: Haiheng Xu  \n",
    "Course: BGEN632 Grad. Intro. to Python  \n",
    "Term: Spring 2025  \n",
    "Date: April 5, 2025  "
   ]
  },
  {
   "cell_type": "markdown",
   "id": "b0cf99dc-ebc0-4fab-af2f-7f9510cc033b",
   "metadata": {},
   "source": [
    "### Import Modules"
   ]
  },
  {
   "cell_type": "code",
   "execution_count": 8,
   "id": "61543d5b-efd7-47e3-9e40-17a62f2b6ec5",
   "metadata": {},
   "outputs": [],
   "source": [
    "import statistics as stat"
   ]
  },
  {
   "cell_type": "markdown",
   "id": "94c90854-4525-400d-91d4-62a4fb0db89d",
   "metadata": {},
   "source": [
    "### Create Variables"
   ]
  },
  {
   "cell_type": "code",
   "execution_count": 14,
   "id": "c2206a9f-8064-4e8c-b6f0-4b5d3c1f0d7b",
   "metadata": {},
   "outputs": [],
   "source": [
    "# Create a list with dictionaries in it to hold student info\n",
    "\n",
    "students = [\n",
    "    {\"first_name\": \"Carmen\", \"last_name\": \"Berzatto\", \"major\": \"MIS\", \"gpa\": 3.5, \"violation\": None},\n",
    "    {\"first_name\": \"Sydney\", \"last_name\": \"Adamu\", \"major\": \"Accounting\", \"gpa\": 3.8, \"violation\": None},\n",
    "    {\"first_name\": \"Neil\", \"last_name\": \"Fak\", \"major\": \"Marketing\", \"gpa\": 3.2, \"violation\": None},\n",
    "    {\"first_name\": \"Marcus\", \"last_name\": \"Brooks\", \"major\": \"Finance\", \"gpa\": 4.0, \"violation\": None}\n",
    "]\n",
    "\n",
    "menu_options = ('1','2','3','4','5')\n",
    "\n"
   ]
  },
  {
   "cell_type": "markdown",
   "id": "d144766f-7c30-42d3-a4c9-c59c470effa1",
   "metadata": {},
   "source": [
    "### Create Nested Loop"
   ]
  },
  {
   "cell_type": "code",
   "execution_count": null,
   "id": "518af812-da92-415a-a5cd-475f56dd99e9",
   "metadata": {},
   "outputs": [],
   "source": [
    "print(\"Welcome to the Grade Entry Ststem!\\n\")\n",
    "\n",
    "\n",
    "\n",
    "while True:\n",
    "    # Menu Navigation\n",
    "    print(\"\\nMenu:\")\n",
    "    print(\"\\n1 : Check Student Information\")\n",
    "    print(\"\\n2 : Entry Student Information\")\n",
    "    print(\"\\n3 : Check Student GPA Information\")\n",
    "    print(\"\\n4 : Check Student Academic Vialations\")\n",
    "    print(\"\\n5 : Quit the System\")  \n",
    "\n",
    "user_selection = input('Enter an option:')\n",
    "\n",
    "if user_selection in menu_options:\n",
    "    break\n",
    "\n",
    "else:\n",
    "    print('OPTION NOT AVAILABLE!')\n",
    "\n",
    "# If user chose to check student information\n",
    "if user_selection == '1':\n",
    "    print(\"Student Information:\")\n",
    "    \n",
    "    # Loop through each student and display their info\n",
    "    for student in students:\n",
    "        print(f\"\\n{student['first_name']} {student['last_name']} - Major: {student['major']} - GPA: {student['gpa']} - Violation: {student['violation']}\")\n",
    "\n",
    "# If user chose to enter student information\n",
    "elif user_selection == '2':\n",
    "    firstname = input(\"What's the student's firstname: \")\n",
    "    lastname = input(\"What's the student's lastname: \")\n",
    "    major = input(\"What's the student's major: \")\n",
    "    gpa = float(input(\"What's the student's gpa: \"))\n",
    "    violation = None\n",
    "\n",
    "# Create a new student dictionary\n",
    "new_student = {\n",
    "    \"first_name\": firstname,\n",
    "    \"last_name\": lastname,\n",
    "    \"major\": major,\n",
    "    \"gpa\": gpa,\n",
    "    \"violation\": None  \n",
    "}\n",
    "\n",
    "# Append the new student dictionary to the students list\n",
    "students.append(new_student)\n",
    "\n",
    "# Print the updated list \n",
    "print(\"\\nUpdated student list:\")\n",
    "for student in students:\n",
    "    print(student)\n",
    "    \n",
    "# If user chose to check GPA information\n",
    "elif user_selection == '3':\n",
    "\n",
    "# Extract all GPA values from the student list\n",
    "gpas = [student['gpa'] for student in students]\n",
    "\n",
    "# Calculate average, max and min gpa, I imported the function statistic as stat\n",
    "average = stat.mean(gpas)\n",
    "maximum = max(gpas)\n",
    "minimum = min(gpas)\n",
    "\n",
    "# show the results\n",
    "print(f\"Average GPA: {average}\")\n",
    "print(f\"Maximum GPA: {maximum}\")\n",
    "print(f\"Minimum GPA: {minimum}\")\n",
    "\n",
    "\n",
    "\n",
    "# If the user chose to enter a academic vialation\n",
    "elif user_selection == '4':\n",
    "\n",
    "# Provide a list of current students\n",
    "print(\"Student Information:\")\n",
    "for student in students:\n",
    "        print(f\"\\n{student['first_name']} {student['last_name']} - Major: {student['major']} - GPA: {student['gpa']} - Violation: {student['violation']}\")\n",
    "\n",
    "# Create a list to store the violation types\n",
    "    vialation_type = {\"copying homework\", \"cheating on exam\", \"plagiarism\",\n",
    "                  \"cheating on quiz\", \"writing paper for another student\",\n",
    "                 }\n",
    "\n",
    "print(vialation_type)\n",
    "\n",
    "vialation = input(\"What's the student's academic violation type: \")\n",
    "\n",
    "\n"
   ]
  },
  {
   "cell_type": "code",
   "execution_count": null,
   "id": "4bf22ff1-2fc5-4765-aa87-1a4013b6dca9",
   "metadata": {},
   "outputs": [],
   "source": [
    "# New student list\n",
    "new_student = {\n",
    "    \"first_name\": input(\"Enter first name: \"),\n",
    "    \"last_name\": input(\"Enter last name: \"),\n",
    "    \"major\": input(\"Enter major: \"),\n",
    "    \"gpa\": float(input(\"Enter GPA: \")),\n",
    "    \"violation\": None  \n",
    "}\n",
    "\n",
    "students.append(new_student)"
   ]
  }
 ],
 "metadata": {
  "kernelspec": {
   "display_name": "Python [conda env:base] *",
   "language": "python",
   "name": "conda-base-py"
  },
  "language_info": {
   "codemirror_mode": {
    "name": "ipython",
    "version": 3
   },
   "file_extension": ".py",
   "mimetype": "text/x-python",
   "name": "python",
   "nbconvert_exporter": "python",
   "pygments_lexer": "ipython3",
   "version": "3.12.7"
  }
 },
 "nbformat": 4,
 "nbformat_minor": 5
}
