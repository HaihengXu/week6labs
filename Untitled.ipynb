{
 "cells": [
  {
   "cell_type": "markdown",
   "id": "fd1d5700-f1cd-4e2b-83b6-ed0b74b4f5a0",
   "metadata": {},
   "source": [
    "# Week 6 Independent lab: Grade Entry System\n",
    "\n",
    "Author: Haiheng Xu  \n",
    "Course: BGEN632 Grad. Intro. to Python  \n",
    "Term: Spring 2025  \n",
    "Date: April 5, 2025  "
   ]
  },
  {
   "cell_type": "markdown",
   "id": "b0cf99dc-ebc0-4fab-af2f-7f9510cc033b",
   "metadata": {},
   "source": [
    "### Import Modules"
   ]
  },
  {
   "cell_type": "code",
   "execution_count": null,
   "id": "61543d5b-efd7-47e3-9e40-17a62f2b6ec5",
   "metadata": {},
   "outputs": [],
   "source": [
    "import statistics as stat"
   ]
  },
  {
   "cell_type": "markdown",
   "id": "94c90854-4525-400d-91d4-62a4fb0db89d",
   "metadata": {},
   "source": [
    "### Create Variables"
   ]
  },
  {
   "cell_type": "code",
   "execution_count": null,
   "id": "c2206a9f-8064-4e8c-b6f0-4b5d3c1f0d7b",
   "metadata": {},
   "outputs": [],
   "source": [
    "# Create a list with dictionaries in it to hold student info\n",
    "\n",
    "students = [\n",
    "    {\"first_name\": \"Carmen\", \"last_name\": \"Berzatto\", \"major\": \"MIS\", \"gpa\": 3.5, \"violation\": None},\n",
    "    {\"first_name\": \"Sydney\", \"last_name\": \"Adamu\", \"major\": \"Accounting\", \"gpa\": 3.8, \"violation\": None},\n",
    "    {\"first_name\": \"Neil\", \"last_name\": \"Fak\", \"major\": \"Marketing\", \"gpa\": 3.2, \"violation\": None},\n",
    "    {\"first_name\": \"Marcus\", \"last_name\": \"Brooks\", \"major\": \"Finance\", \"gpa\": 4.0, \"violation\": None}\n",
    "]\n",
    "\n",
    "menu_options = ['1','2','3','4','5']\n",
    "\n"
   ]
  },
  {
   "cell_type": "markdown",
   "id": "d144766f-7c30-42d3-a4c9-c59c470effa1",
   "metadata": {},
   "source": [
    "### Create Nested Loop"
   ]
  },
  {
   "cell_type": "code",
   "execution_count": null,
   "id": "518af812-da92-415a-a5cd-475f56dd99e9",
   "metadata": {},
   "outputs": [],
   "source": [
    "print(\"Welcome to the Grade Entry Ststem!\\n\")\n",
    "\n",
    "\n",
    "\n",
    "while True:\n",
    "    # Menu Navigation\n",
    "    print(\"\\nMenu:\")\n",
    "    print(\"\\n1 : Check Student Information\")\n",
    "    print(\"\\n2 : Entry Student Information\")\n",
    "    print(\"\\n3 : Check Student GPA Information\")\n",
    "    print(\"\\n4 : Check Student Academic Vialations\")\n",
    "    print(\"\\n5 : Quit the System\")  \n",
    "\n",
    "# Ask for a choice\n",
    "user_selection = input('Enter an option:')\n",
    "\n",
    "if user_selection in menu_options:\n",
    "    break\n",
    "\n",
    "else:\n",
    "    print('OPTION NOT AVAILABLE!')\n",
    "\n",
    "# If user chose to check student information\n",
    "if user_selection == '1':\n",
    "    print(\"Student Information:\")\n",
    "    \n",
    "    # Loop through each student and display their info\n",
    "    for student in students:\n",
    "        print(f\"\\n{student['first_name']} {student['last_name']} - Major: {student['major']} - GPA: {student['gpa']} - Violation: {student['violation']}\")\n",
    "\n",
    "# If user chose to enter student information\n",
    "elif user_selection == '2':\n",
    "    firstname = input(\"What's the student's firstname: \")\n",
    "    lastname = input(\"What's the student's lastname: \")\n",
    "    major = input(\"What's the student's major: \")\n",
    "    gpa = float(input(\"What's the student's gpa: \"))\n",
    "    violation = None\n",
    "\n",
    "# Create a new student dictionary\n",
    "new_student = {\n",
    "    \"first_name\": firstname,\n",
    "    \"last_name\": lastname,\n",
    "    \"major\": major,\n",
    "    \"gpa\": gpa,\n",
    "    \"violation\": None  \n",
    "}\n",
    "\n",
    "# Append the new student dictionary to the students list\n",
    "students.append(new_student)\n",
    "\n",
    "# Print the updated list \n",
    "print(\"\\nUpdated student list:\")\n",
    "for student in students:\n",
    "    print(student)\n",
    "    \n",
    "# If user chose to check GPA information\n",
    "elif user_selection == '3':\n",
    "\n",
    "# Extract all GPA values from the student list\n",
    "gpas = [student['gpa'] for student in students]\n",
    "\n",
    "# Calculate average, max and min gpa, I imported the function statistic as stat\n",
    "average = stat.mean(gpas)\n",
    "maximum = max(gpas)\n",
    "minimum = min(gpas)\n",
    "\n",
    "# show the results\n",
    "print(f\"Average GPA: {average}\")\n",
    "print(f\"Maximum GPA: {maximum}\")\n",
    "print(f\"Minimum GPA: {minimum}\")\n",
    "\n",
    "\n",
    "\n",
    "# If the user chose to enter an academic vialation\n",
    "elif user_selection == '4':\n",
    "\n",
    "# Provide a list of current students\n",
    "print(\"Student Information:\")\n",
    "\n",
    "# Use enumerate function to show the student names with a number\n",
    "for i, student in enumerate(students, start=1):\n",
    "    print(f\"{i}. {student['first_name']} {student['last_name']}\")\n",
    "\n",
    "# Record user input and change it from a str to int then match it with the name\n",
    "student_no_str = input(\"Please input the number of the student to update a violation: \")\n",
    "if student_no_str.isdigit():\n",
    "    student_no = int(student_no_str) - 1\n",
    "    if 0 <= student_no < len(students):\n",
    "        selected_student = students[student_no]\n",
    "\n",
    "# Create a list to store the violation types\n",
    "violation_type = [\n",
    "    \"copying homework\",\n",
    "    \"cheating on exam\",\n",
    "    \"plagiarism\",\n",
    "    \"cheating on quiz\",\n",
    "    \"writing paper for another student\"\n",
    "]\n",
    "\n",
    "# Use enumerate function to show the academic violation types with a number\n",
    "for n, v_type in enumerate(violation_type, start=1):\n",
    "    print(f\"{n}. {v_type}\")\n",
    "\n",
    "violation_no_str = input(\"What's the student's academic violation type (number): \")\n",
    "        if violation_no_str.isdigit():\n",
    "            violation_no = int(violation_no_str) - 1\n",
    "            if 0 <= violation_no < len(violation_type):\n",
    "                selected_violation = violation_type[violation_no]\n",
    "\n",
    "# Assign the selected violation to the student's 'violation' field\n",
    "selected_student['violation'] = selected_violation\n",
    "print(f\"\\nViolation '{selected_violation}' recorded for {selected_student['first_name']} {selected_student['last_name']}.\")\n",
    "\n",
    "# Update the students list with the user input\n",
    "students.append(student)\n",
    "\n",
    "# Print the updated students list\n",
    "print(\"\\nUpdated Student Information:\")\n",
    "\n",
    "for student in students:\n",
    "    print(f\"{student['first_name']} {student['last_name']} - Major: {student['major']} - GPA: {student['gpa']} - Violation: {student['violation']}\")\n",
    "    \n",
    "else:\n",
    "    print(\"Invalid violation number selected.\")\n",
    "    \n",
    "else:\n",
    "print(\"Invalid input for violation number. Please enter a number.\")\n",
    "\n",
    "else:\n",
    "print(\"Invalid student number selected.\")\n",
    "\n",
    "else:\n",
    "print(\"Invalid input for student number. Please enter a number.\")\n",
    "\n",
    "# If user chose to exit\n",
    "elif user_selection == '5':\n",
    " \n",
    "print(\"Thank you for using the Grade Entry Ststem!\\n\")\n",
    "\n",
    "break\n",
    "\n"
   ]
  },
  {
   "cell_type": "code",
   "execution_count": 5,
   "id": "5e1e0b46-3fec-4670-b0e1-29bdd042e868",
   "metadata": {},
   "outputs": [
    {
     "name": "stdout",
     "output_type": "stream",
     "text": [
      "Welcome to the Grade Entry System!\n",
      "\n",
      "\n",
      "Menu:\n",
      "1 : Check Student Information\n",
      "2 : Enter Student Information\n",
      "3 : Check Student GPA Information\n",
      "4 : Check Student Academic Violations\n",
      "5 : Quit the System\n"
     ]
    },
    {
     "name": "stdin",
     "output_type": "stream",
     "text": [
      "Enter an option:  3\n"
     ]
    },
    {
     "name": "stdout",
     "output_type": "stream",
     "text": [
      "Average GPA: 3.625\n",
      "Maximum GPA: 4.0\n",
      "Minimum GPA: 3.2\n",
      "\n",
      "Menu:\n",
      "1 : Check Student Information\n",
      "2 : Enter Student Information\n",
      "3 : Check Student GPA Information\n",
      "4 : Check Student Academic Violations\n",
      "5 : Quit the System\n"
     ]
    },
    {
     "name": "stdin",
     "output_type": "stream",
     "text": [
      "Enter an option:  2\n",
      "What's the student's first name:  Haiheng\n",
      "What's the student's last name:  Xu\n",
      "What's the student's major:  MSBA\n",
      "What's the student's GPA:  3.7\n"
     ]
    },
    {
     "name": "stdout",
     "output_type": "stream",
     "text": [
      "\n",
      "Student added successfully!\n",
      "\n",
      "Menu:\n",
      "1 : Check Student Information\n",
      "2 : Enter Student Information\n",
      "3 : Check Student GPA Information\n",
      "4 : Check Student Academic Violations\n",
      "5 : Quit the System\n"
     ]
    },
    {
     "name": "stdin",
     "output_type": "stream",
     "text": [
      "Enter an option:  2\n",
      "What's the student's first name:  Chris\n",
      "What's the student's last name:  Andersen\n",
      "What's the student's major:  Basketball\n",
      "What's the student's GPA:  4.0\n"
     ]
    },
    {
     "name": "stdout",
     "output_type": "stream",
     "text": [
      "\n",
      "Student added successfully!\n",
      "\n",
      "Menu:\n",
      "1 : Check Student Information\n",
      "2 : Enter Student Information\n",
      "3 : Check Student GPA Information\n",
      "4 : Check Student Academic Violations\n",
      "5 : Quit the System\n"
     ]
    },
    {
     "name": "stdin",
     "output_type": "stream",
     "text": [
      "Enter an option:  3\n"
     ]
    },
    {
     "name": "stdout",
     "output_type": "stream",
     "text": [
      "Average GPA: 3.7\n",
      "Maximum GPA: 4.0\n",
      "Minimum GPA: 3.2\n",
      "\n",
      "Menu:\n",
      "1 : Check Student Information\n",
      "2 : Enter Student Information\n",
      "3 : Check Student GPA Information\n",
      "4 : Check Student Academic Violations\n",
      "5 : Quit the System\n"
     ]
    },
    {
     "name": "stdin",
     "output_type": "stream",
     "text": [
      "Enter an option:  1\n"
     ]
    },
    {
     "name": "stdout",
     "output_type": "stream",
     "text": [
      "Student Information:\n",
      "Carmen Berzatto - Major: MIS - GPA: 3.5 - Violation: None\n",
      "Sydney Adamu - Major: Accounting - GPA: 3.8 - Violation: None\n",
      "Neil Fak - Major: Marketing - GPA: 3.2 - Violation: None\n",
      "Marcus Brooks - Major: Finance - GPA: 4.0 - Violation: None\n",
      "Haiheng Xu - Major: MSBA - GPA: 3.7 - Violation: None\n",
      "Chris Andersen - Major: Basketball - GPA: 4.0 - Violation: None\n",
      "\n",
      "Menu:\n",
      "1 : Check Student Information\n",
      "2 : Enter Student Information\n",
      "3 : Check Student GPA Information\n",
      "4 : Check Student Academic Violations\n",
      "5 : Quit the System\n"
     ]
    },
    {
     "name": "stdin",
     "output_type": "stream",
     "text": [
      "Enter an option:  4\n"
     ]
    },
    {
     "name": "stdout",
     "output_type": "stream",
     "text": [
      "Student List:\n",
      "1. Carmen Berzatto\n",
      "2. Sydney Adamu\n",
      "3. Neil Fak\n",
      "4. Marcus Brooks\n",
      "5. Haiheng Xu\n",
      "6. Chris Andersen\n"
     ]
    },
    {
     "name": "stdin",
     "output_type": "stream",
     "text": [
      "Enter the number of the student to update a violation:  5\n"
     ]
    },
    {
     "name": "stdout",
     "output_type": "stream",
     "text": [
      "\n",
      "Violation Types:\n",
      "1. copying homework\n",
      "2. cheating on exam\n",
      "3. plagiarism\n",
      "4. cheating on quiz\n",
      "5. writing paper for another student\n"
     ]
    },
    {
     "name": "stdin",
     "output_type": "stream",
     "text": [
      "Enter the number of the violation:  5\n"
     ]
    },
    {
     "name": "stdout",
     "output_type": "stream",
     "text": [
      "Violation 'writing paper for another student' recorded for Haiheng Xu.\n",
      "\n",
      "Menu:\n",
      "1 : Check Student Information\n",
      "2 : Enter Student Information\n",
      "3 : Check Student GPA Information\n",
      "4 : Check Student Academic Violations\n",
      "5 : Quit the System\n"
     ]
    },
    {
     "name": "stdin",
     "output_type": "stream",
     "text": [
      "Enter an option:  4\n"
     ]
    },
    {
     "name": "stdout",
     "output_type": "stream",
     "text": [
      "Student List:\n",
      "1. Carmen Berzatto\n",
      "2. Sydney Adamu\n",
      "3. Neil Fak\n",
      "4. Marcus Brooks\n",
      "5. Haiheng Xu\n",
      "6. Chris Andersen\n"
     ]
    },
    {
     "name": "stdin",
     "output_type": "stream",
     "text": [
      "Enter the number of the student to update a violation:  6\n"
     ]
    },
    {
     "name": "stdout",
     "output_type": "stream",
     "text": [
      "\n",
      "Violation Types:\n",
      "1. copying homework\n",
      "2. cheating on exam\n",
      "3. plagiarism\n",
      "4. cheating on quiz\n",
      "5. writing paper for another student\n"
     ]
    },
    {
     "name": "stdin",
     "output_type": "stream",
     "text": [
      "Enter the number of the violation:  5\n"
     ]
    },
    {
     "name": "stdout",
     "output_type": "stream",
     "text": [
      "Violation 'writing paper for another student' recorded for Chris Andersen.\n",
      "\n",
      "Menu:\n",
      "1 : Check Student Information\n",
      "2 : Enter Student Information\n",
      "3 : Check Student GPA Information\n",
      "4 : Check Student Academic Violations\n",
      "5 : Quit the System\n"
     ]
    },
    {
     "name": "stdin",
     "output_type": "stream",
     "text": [
      "Enter an option:  1\n"
     ]
    },
    {
     "name": "stdout",
     "output_type": "stream",
     "text": [
      "Student Information:\n",
      "Carmen Berzatto - Major: MIS - GPA: 3.5 - Violation: None\n",
      "Sydney Adamu - Major: Accounting - GPA: 3.8 - Violation: None\n",
      "Neil Fak - Major: Marketing - GPA: 3.2 - Violation: None\n",
      "Marcus Brooks - Major: Finance - GPA: 4.0 - Violation: None\n",
      "Haiheng Xu - Major: MSBA - GPA: 3.7 - Violation: writing paper for another student\n",
      "Chris Andersen - Major: Basketball - GPA: 4.0 - Violation: writing paper for another student\n",
      "\n",
      "Menu:\n",
      "1 : Check Student Information\n",
      "2 : Enter Student Information\n",
      "3 : Check Student GPA Information\n",
      "4 : Check Student Academic Violations\n",
      "5 : Quit the System\n"
     ]
    },
    {
     "name": "stdin",
     "output_type": "stream",
     "text": [
      "Enter an option:  5\n"
     ]
    },
    {
     "name": "stdout",
     "output_type": "stream",
     "text": [
      "Thank you for using the Grade Entry System!\n",
      "\n"
     ]
    }
   ],
   "source": [
    "\n",
    "print(\"Welcome to the Grade Entry System!\\n\")\n",
    "\n",
    "\n",
    "while True:\n",
    "    #Show menu\n",
    "    print(\"\\nMenu:\")\n",
    "    print(\"1 : Check Student Information\")\n",
    "    print(\"2 : Enter Student Information\")\n",
    "    print(\"3 : Check Student GPA Information\")\n",
    "    print(\"4 : Check Student Academic Violations\")\n",
    "    print(\"5 : Quit the System\")\n",
    "# Ask user for choice\n",
    "    user_selection = input('Enter an option: ')\n",
    "\n",
    "    if user_selection not in menu_options:\n",
    "        print('OPTION NOT AVAILABLE!')\n",
    "        continue\n",
    "# If user wants to check student information\n",
    "    if user_selection == '1':\n",
    "        print(\"Student Information:\")\n",
    "        for student in students:\n",
    "            print(f\"{student['first_name']} {student['last_name']} - Major: {student['major']} - GPA: {student['gpa']} - Violation: {student['violation']}\")\n",
    "\n",
    "# If user wants to update student information\n",
    "    elif user_selection == '2':\n",
    "        firstname = input(\"What's the student's first name: \")\n",
    "        lastname = input(\"What's the student's last name: \")\n",
    "        major = input(\"What's the student's major: \")\n",
    "        gpa = float(input(\"What's the student's GPA: \"))\n",
    "        new_student = {\n",
    "            \"first_name\": firstname,\n",
    "            \"last_name\": lastname,\n",
    "            \"major\": major,\n",
    "            \"gpa\": gpa,\n",
    "            \"violation\": None\n",
    "        }\n",
    "        students.append(new_student)\n",
    "        print(\"\\nStudent added successfully!\")\n",
    "        \n",
    "# If user wants to check gpa information\n",
    "    elif user_selection == '3':\n",
    "        gpas = [student['gpa'] for student in students]\n",
    "        average = stat.mean(gpas)\n",
    "        maximum = max(gpas)\n",
    "        minimum = min(gpas)\n",
    "        print(f\"Average GPA: {average}\")\n",
    "        print(f\"Maximum GPA: {maximum}\")\n",
    "        print(f\"Minimum GPA: {minimum}\")\n",
    "\n",
    "# If user wants to update academic violation information    \n",
    "    elif user_selection == '4':\n",
    "        print(\"Student List:\")\n",
    "        for i, student in enumerate(students, start=1):\n",
    "            print(f\"{i}. {student['first_name']} {student['last_name']}\")\n",
    "\n",
    "        student_no_str = input(\"Enter the number of the student to update a violation: \")\n",
    "        if student_no_str.isdigit():\n",
    "            student_no = int(student_no_str) - 1\n",
    "            if 0 <= student_no < len(students):\n",
    "                selected_student = students[student_no]\n",
    "\n",
    "# Create a list to store violation type\n",
    "                violation_type = [\n",
    "                    \"copying homework\",\n",
    "                    \"cheating on exam\",\n",
    "                    \"plagiarism\",\n",
    "                    \"cheating on quiz\",\n",
    "                    \"writing paper for another student\"\n",
    "                ]\n",
    "\n",
    "                print(\"\\nViolation Types:\")\n",
    "                for n, v_type in enumerate(violation_type, start=1):\n",
    "                    print(f\"{n}. {v_type}\")\n",
    "\n",
    "                violation_no_str = input(\"Enter the number of the violation: \")\n",
    "                if violation_no_str.isdigit():\n",
    "                    violation_no = int(violation_no_str) - 1\n",
    "                    if 0 <= violation_no < len(violation_type):\n",
    "                        selected_violation = violation_type[violation_no]\n",
    "                        selected_student['violation'] = selected_violation\n",
    "                        print(f\"Violation '{selected_violation}' recorded for {selected_student['first_name']} {selected_student['last_name']}.\")\n",
    "                    else:\n",
    "                        print(\"Invalid violation number selected.\")\n",
    "                else:\n",
    "                    print(\"Invalid input for violation number. Please enter a number.\")\n",
    "            else:\n",
    "                print(\"Invalid student number selected.\")\n",
    "        else:\n",
    "            print(\"Invalid input for student number. Please enter a number.\")\n",
    "# If user wants to quit\n",
    "    elif user_selection == '5':\n",
    "        print(\"Thank you for using the Grade Entry System!\\n\")\n",
    "        break\n"
   ]
  },
  {
   "cell_type": "markdown",
   "id": "64c735bd-5868-4674-9254-59ce889b83fb",
   "metadata": {},
   "source": [
    "### Reference"
   ]
  },
  {
   "cell_type": "code",
   "execution_count": null,
   "id": "e2136680-9661-4dea-85a9-683781f8d0ac",
   "metadata": {},
   "outputs": [],
   "source": [
    "1. Python - Test Average And Grade - https://www.youtube.com/watch?v=4P4plg2Mbgo\n",
    "2. Python Tutorial #11; Statistical Functions in Python - https://www.youtube.com/watch?v=gjf-0rDmmCU\n",
    "3. Python Enumerate Function - Python Quick Tips - https://www.youtube.com/watch?v=-MZiQaNI0QA\n",
    "4. ChatGPT Conversation - https://chatgpt.com/c/67f0c9ea-eaf8-800c-8c9f-af37ca480ec6(Screenshots in repo)"
   ]
  }
 ],
 "metadata": {
  "kernelspec": {
   "display_name": "Python [conda env:base] *",
   "language": "python",
   "name": "conda-base-py"
  },
  "language_info": {
   "codemirror_mode": {
    "name": "ipython",
    "version": 3
   },
   "file_extension": ".py",
   "mimetype": "text/x-python",
   "name": "python",
   "nbconvert_exporter": "python",
   "pygments_lexer": "ipython3",
   "version": "3.12.7"
  }
 },
 "nbformat": 4,
 "nbformat_minor": 5
}
